{
 "cells": [
  {
   "cell_type": "code",
   "execution_count": null,
   "id": "cdbda4f8",
   "metadata": {},
   "outputs": [
    {
     "name": "stdout",
     "output_type": "stream",
     "text": [
      " * Serving Flask app '__main__'\n",
      " * Debug mode: off\n"
     ]
    },
    {
     "name": "stderr",
     "output_type": "stream",
     "text": [
      "WARNING: This is a development server. Do not use it in a production deployment. Use a production WSGI server instead.\n",
      " * Running on http://127.0.0.1:5000\n",
      "Press CTRL+C to quit\n",
      "127.0.0.1 - - [02/Dec/2023 11:23:38] \"GET / HTTP/1.1\" 200 -\n",
      "127.0.0.1 - - [02/Dec/2023 11:23:38] \"GET / HTTP/1.1\" 200 -\n",
      "127.0.0.1 - - [02/Dec/2023 11:23:38] \"GET / HTTP/1.1\" 200 -\n"
     ]
    }
   ],
   "source": [
    "from flask import Flask, render_template, request\n",
    "import numpy as np\n",
    "from sklearn.ensemble import AdaBoostRegressor\n",
    "from sklearn.ensemble import RandomForestRegressor\n",
    "from sklearn.preprocessing import StandardScaler\n",
    "import pickle\n",
    "\n",
    "\n",
    "with open('model.pkl', 'rb') as file:  \n",
    "    model = pickle.load(file)\n",
    "    \n",
    "app = Flask(__name__, template_folder='template')\n",
    "ss=StandardScaler()\n",
    "@app.route('/', methods=['GET', 'POST'])\n",
    "def index():\n",
    "    if request.method == 'POST':\n",
    "        age = request.form['House Age']\n",
    "        convenience = request.form['Number of convenience stores']  # Corrected variable name\n",
    "        bed = request.form['Number of bedrooms']\n",
    "        sqft=request.form['house size in sqft']\n",
    "        try:\n",
    "            age = float(age)\n",
    "            convenience = float(convenience)\n",
    "            bed = float(bed)\n",
    "            sqft=float(sqft)\n",
    "            data = np.array([age, convenience, bed,sqft]).reshape(1, -1)\n",
    "        except ValueError as e:\n",
    "            print(f\"Error converting form data to float: {e}\")\n",
    "            return render_template('index.html', pred=\"Error in form data\")\n",
    "        print(f\"Original data: {data}\")\n",
    "\n",
    "        # Use the inverse transform to get back to the original scale\n",
    "        try:\n",
    "            \n",
    "            pred = model.predict(data)\n",
    "            print(f\"Prediction: {pred}\")\n",
    "        except Exception as e:\n",
    "            print(f\"Error in prediction: {e}\")\n",
    "            return render_template('index.html', pred=\"Error in prediction\")\n",
    "\n",
    "        return render_template('index.html', pred=str(pred))\n",
    "    \n",
    "    return render_template('index.html')\n",
    "\n",
    "if __name__ == '__main__':\n",
    "    app.run()\n"
   ]
  },
  {
   "cell_type": "code",
   "execution_count": null,
   "id": "6fd393d2",
   "metadata": {},
   "outputs": [],
   "source": []
  }
 ],
 "metadata": {
  "kernelspec": {
   "display_name": "Python 3 (ipykernel)",
   "language": "python",
   "name": "python3"
  },
  "language_info": {
   "codemirror_mode": {
    "name": "ipython",
    "version": 3
   },
   "file_extension": ".py",
   "mimetype": "text/x-python",
   "name": "python",
   "nbconvert_exporter": "python",
   "pygments_lexer": "ipython3",
   "version": "3.8.8"
  }
 },
 "nbformat": 4,
 "nbformat_minor": 5
}
